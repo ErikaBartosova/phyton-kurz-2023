{
 "cells": [
  {
   "cell_type": "markdown",
   "metadata": {},
   "source": [
    "🟢 Zadání 1\n",
    "Uvažuj, že zpracováváš analýzu pro softwarovou firmu. \n",
    "Firma má kanceláře v Praze, Plzni a Liberci. Seznam zaměstnanců pro jednotlivé kanceláře najdeš v souborech zam_praha.csv, zam_plzeň.csv a zam_liberec.csv.\n",
    "   ⚬ Načti data o zaměstnancích z CSV souborů do tabulek (DataFrame). Ke každé tabulce přidej nový sloupec mesto, které bude obsahovat informaci o tom, ve kterém městě zaměstnanec pracuje."
   ]
  },
  {
   "cell_type": "code",
   "execution_count": 47,
   "metadata": {},
   "outputs": [
    {
     "data": {
      "text/html": [
       "<div>\n",
       "<style scoped>\n",
       "    .dataframe tbody tr th:only-of-type {\n",
       "        vertical-align: middle;\n",
       "    }\n",
       "\n",
       "    .dataframe tbody tr th {\n",
       "        vertical-align: top;\n",
       "    }\n",
       "\n",
       "    .dataframe thead th {\n",
       "        text-align: right;\n",
       "    }\n",
       "</style>\n",
       "<table border=\"1\" class=\"dataframe\">\n",
       "  <thead>\n",
       "    <tr style=\"text-align: right;\">\n",
       "      <th></th>\n",
       "      <th>jmeno</th>\n",
       "      <th>prijimeni</th>\n",
       "      <th>telefonni_cislo</th>\n",
       "      <th>cislo_zamestnance</th>\n",
       "      <th>mesto</th>\n",
       "    </tr>\n",
       "  </thead>\n",
       "  <tbody>\n",
       "    <tr>\n",
       "      <th>0</th>\n",
       "      <td>Brian</td>\n",
       "      <td>Hall</td>\n",
       "      <td>+421 949 656 098</td>\n",
       "      <td>30</td>\n",
       "      <td>Praha</td>\n",
       "    </tr>\n",
       "  </tbody>\n",
       "</table>\n",
       "</div>"
      ],
      "text/plain": [
       "   jmeno prijimeni   telefonni_cislo  cislo_zamestnance  mesto\n",
       "0  Brian      Hall  +421 949 656 098                 30  Praha"
      ]
     },
     "execution_count": 47,
     "metadata": {},
     "output_type": "execute_result"
    }
   ],
   "source": [
    "import pandas as pd\n",
    "\n",
    "df_praha = pd.read_csv(\"zam_praha.csv\")\n",
    "df_plzen = pd.read_csv(\"zam_plzen.csv\")\n",
    "df_liberec = pd.read_csv(\"zam_liberec.csv\")\n",
    "\n",
    "df_praha[\"mesto\"] = \"Praha\"\n",
    "df_plzen[\"mesto\"] = \"Plzeň\"\n",
    "df_liberec[\"mesto\"] = \"Liberec\"\n",
    "\n",
    "#kontrola, že tabulka obsahuje nový sloupec:\n",
    "df_praha.head(1)\n"
   ]
  },
  {
   "cell_type": "markdown",
   "metadata": {},
   "source": [
    "   ⚬ Vytvoř novou tabulku zamestnanci a ulož do ní informace o všech zaměstnancích (operace concat)."
   ]
  },
  {
   "cell_type": "code",
   "execution_count": 48,
   "metadata": {},
   "outputs": [],
   "source": [
    "zamestnanci = pd.concat([df_praha, df_plzen, df_liberec], ignore_index=True)"
   ]
  },
  {
   "cell_type": "markdown",
   "metadata": {},
   "source": [
    "   ⚬ Ze souboru platy_2021_02.csv načti platy zaměstnanců za únor 2021. Propoj tabulku (operace join) s platy a tabulku se zaměstnanci pomocí sloupce cislo_zamestnance."
   ]
  },
  {
   "cell_type": "code",
   "execution_count": 77,
   "metadata": {},
   "outputs": [
    {
     "data": {
      "text/html": [
       "<div>\n",
       "<style scoped>\n",
       "    .dataframe tbody tr th:only-of-type {\n",
       "        vertical-align: middle;\n",
       "    }\n",
       "\n",
       "    .dataframe tbody tr th {\n",
       "        vertical-align: top;\n",
       "    }\n",
       "\n",
       "    .dataframe thead th {\n",
       "        text-align: right;\n",
       "    }\n",
       "</style>\n",
       "<table border=\"1\" class=\"dataframe\">\n",
       "  <thead>\n",
       "    <tr style=\"text-align: right;\">\n",
       "      <th></th>\n",
       "      <th>jmeno</th>\n",
       "      <th>prijimeni</th>\n",
       "      <th>telefonni_cislo</th>\n",
       "      <th>cislo_zamestnance</th>\n",
       "      <th>mesto</th>\n",
       "      <th>plat</th>\n",
       "    </tr>\n",
       "  </thead>\n",
       "  <tbody>\n",
       "    <tr>\n",
       "      <th>0</th>\n",
       "      <td>Brian</td>\n",
       "      <td>Hall</td>\n",
       "      <td>+421 949 656 098</td>\n",
       "      <td>30</td>\n",
       "      <td>Praha</td>\n",
       "      <td>33500.0</td>\n",
       "    </tr>\n",
       "    <tr>\n",
       "      <th>1</th>\n",
       "      <td>Marta</td>\n",
       "      <td>Kolářová</td>\n",
       "      <td>730 456 163</td>\n",
       "      <td>32</td>\n",
       "      <td>Praha</td>\n",
       "      <td>53000.0</td>\n",
       "    </tr>\n",
       "  </tbody>\n",
       "</table>\n",
       "</div>"
      ],
      "text/plain": [
       "   jmeno prijimeni   telefonni_cislo  cislo_zamestnance  mesto     plat\n",
       "0  Brian      Hall  +421 949 656 098                 30  Praha  33500.0\n",
       "1  Marta  Kolářová       730 456 163                 32  Praha  53000.0"
      ]
     },
     "execution_count": 77,
     "metadata": {},
     "output_type": "execute_result"
    }
   ],
   "source": [
    "platy = pd.read_csv(\"platy_2021_02.csv\")\n",
    "zamestnanci_merge  = pd.merge(zamestnanci, platy, on=\"cislo_zamestnance\", how=\"left\")\n",
    "zamestnanci_merge.head(2)"
   ]
  },
  {
   "cell_type": "markdown",
   "metadata": {},
   "source": [
    "   ⚬ Porovnej rozměry tabulek před spojením a po spojení. Pokud nemá některý zaměstnanec plat za únor, znamená to, že v naší firmě již nepracuje.\n",
    "   "
   ]
  },
  {
   "cell_type": "code",
   "execution_count": 78,
   "metadata": {},
   "outputs": [
    {
     "name": "stdout",
     "output_type": "stream",
     "text": [
      "Rozměry tabulek před spojením:\n",
      "Zaměstnanci: (56, 5)\n",
      "Platy: (43, 2)\n",
      "\n",
      "Rozměry tabulky po spojení:\n",
      "Celková tabulka: (56, 6)\n"
     ]
    }
   ],
   "source": [
    "print(\"Rozměry tabulek před spojením:\")\n",
    "print(\"Zaměstnanci:\", zamestnanci.shape)\n",
    "print(\"Platy:\", platy.shape)\n",
    "\n",
    "print(\"\\nRozměry tabulky po spojení:\")\n",
    "print(\"Celková tabulka:\", zamestnanci_merge.shape)"
   ]
  },
  {
   "cell_type": "code",
   "execution_count": 97,
   "metadata": {},
   "outputs": [
    {
     "name": "stdout",
     "output_type": "stream",
     "text": [
      "Počet nezaměstnaných: 13\n",
      "Celková tabulka po vyčištění: (43, 6)\n"
     ]
    }
   ],
   "source": [
    "nezamestnani_count = zamestnanci_merge[\"plat\"].isnull().sum()\n",
    "print(f\"Počet nezaměstnaných: {nezamestnani_count}\")\n",
    "\n",
    "zamestnanci_cleaned = zamestnanci_merge.dropna(subset=[\"plat\"])\n",
    "print(\"Celková tabulka po vyčištění:\", zamestnanci_cleaned.shape)"
   ]
  },
  {
   "cell_type": "markdown",
   "metadata": {},
   "source": [
    "   ⚬ Spočti průměrný plat zaměstnanců v jednotlivých kancelářích."
   ]
  },
  {
   "cell_type": "code",
   "execution_count": 105,
   "metadata": {},
   "outputs": [
    {
     "name": "stdout",
     "output_type": "stream",
     "text": [
      "mesto\n",
      "Liberec    43775.000000\n",
      "Plzeň      44792.857143\n",
      "Praha      43295.238095\n",
      "Name: plat, dtype: float64\n"
     ]
    }
   ],
   "source": [
    "Prumerne_platy = zamestnanci_cleaned.groupby('mesto')[\"plat\"].mean()\n",
    "print(Prumerne_platy)\n"
   ]
  },
  {
   "cell_type": "markdown",
   "metadata": {},
   "source": [
    "🟢 Zadání 2\n",
    "Pokračuj ve své práci pro softwarovou firmu. Ze souboru vykazy.csv načti informace o výkazech na projekty pro jednoho vybraného zákazníka.\n",
    "⚬ Načti data ze souboru a ulož je do tabulky.\n",
    "⚬ Proveď agregaci a zjisti celkový počet vykázaných hodin za jednotlivé projekty.\n",
    "\n"
   ]
  },
  {
   "cell_type": "code",
   "execution_count": 107,
   "metadata": {},
   "outputs": [
    {
     "name": "stdout",
     "output_type": "stream",
     "text": [
      "project\n",
      "F30    21.5\n",
      "JL9     2.1\n",
      "TE1    16.0\n",
      "W05    30.5\n",
      "YLI    31.0\n",
      "Name: hours, dtype: float64\n"
     ]
    }
   ],
   "source": [
    "vykazy = pd.read_csv(\"vykazy.csv\")\n",
    "celkove_hodiny_projektu = vykazy.groupby(\"project\")[\"hours\"].sum()\n",
    "print(celkove_hodiny_projektu)"
   ]
  }
 ],
 "metadata": {
  "kernelspec": {
   "display_name": "Python 3",
   "language": "python",
   "name": "python3"
  },
  "language_info": {
   "codemirror_mode": {
    "name": "ipython",
    "version": 3
   },
   "file_extension": ".py",
   "mimetype": "text/x-python",
   "name": "python",
   "nbconvert_exporter": "python",
   "pygments_lexer": "ipython3",
   "version": "3.9.6"
  }
 },
 "nbformat": 4,
 "nbformat_minor": 2
}
