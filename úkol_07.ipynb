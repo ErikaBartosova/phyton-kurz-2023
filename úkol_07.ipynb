{
 "cells": [
  {
   "cell_type": "code",
   "execution_count": 6,
   "metadata": {},
   "outputs": [],
   "source": [
    "import pandas as pd"
   ]
  },
  {
   "cell_type": "markdown",
   "metadata": {},
   "source": [
    "Data si načti pomocí metody pandas.read_csv(). Pozor, nastav oddělovač na znak středníku. Využij parametr sep."
   ]
  },
  {
   "cell_type": "code",
   "execution_count": 7,
   "metadata": {},
   "outputs": [],
   "source": [
    "seznam_zvirat = pd.read_csv('adopce-zvirat.csv', sep=';')"
   ]
  },
  {
   "cell_type": "markdown",
   "metadata": {},
   "source": [
    "Seznam se s daty. Kolik má tabulka řádek a sloupců? Jak se sloupce jmenují?"
   ]
  },
  {
   "cell_type": "code",
   "execution_count": 14,
   "metadata": {},
   "outputs": [
    {
     "name": "stdout",
     "output_type": "stream",
     "text": [
      "Počet řádků je: 513 a počet sloupců je: 6 \n",
      "Názvy sloupců jsou: Index(['id', 'nazev_cz', 'nazev_en', 'trida_cz', 'cena', 'k_prohlidce'], dtype='object')\n"
     ]
    }
   ],
   "source": [
    "pocet_radku, pocet_sloupcu = seznam_zvirat.shape\n",
    "print(f\"Počet řádků je: {pocet_radku} a počet sloupců je: {pocet_sloupcu} \")\n",
    "sloupce = seznam_zvirat.columns\n",
    "print(f\"Názvy sloupců jsou: {sloupce}\")"
   ]
  },
  {
   "cell_type": "markdown",
   "metadata": {},
   "source": [
    "Které zvíře se nachází na záznamu s indexem 34? Vypiš název tohoto zvířete v češtině a v angličtině."
   ]
  },
  {
   "cell_type": "code",
   "execution_count": 15,
   "metadata": {},
   "outputs": [
    {
     "name": "stdout",
     "output_type": "stream",
     "text": [
      "Zvíře na indexu 34 (česky): Ibis bílý\n",
      "Zvíře na indexu 34 (anglicky): White ibis\n"
     ]
    }
   ],
   "source": [
    "název_CZ = (seznam_zvirat[\"nazev_cz\"].iloc[34])\n",
    "název_EN = (seznam_zvirat[\"nazev_en\"].iloc[34])\n",
    "\n",
    "print(f\"Zvíře na indexu 34 (česky): {název_CZ}\")\n",
    "print(f\"Zvíře na indexu 34 (anglicky): {název_EN}\")"
   ]
  },
  {
   "cell_type": "markdown",
   "metadata": {},
   "source": []
  }
 ],
 "metadata": {
  "kernelspec": {
   "display_name": "Python 3",
   "language": "python",
   "name": "python3"
  },
  "language_info": {
   "codemirror_mode": {
    "name": "ipython",
    "version": 3
   },
   "file_extension": ".py",
   "mimetype": "text/x-python",
   "name": "python",
   "nbconvert_exporter": "python",
   "pygments_lexer": "ipython3",
   "version": "3.9.6"
  }
 },
 "nbformat": 4,
 "nbformat_minor": 2
}
