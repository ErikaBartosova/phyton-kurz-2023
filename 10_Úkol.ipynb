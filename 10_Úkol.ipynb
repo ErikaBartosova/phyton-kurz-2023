{
 "cells": [
  {
   "cell_type": "markdown",
   "metadata": {},
   "source": [
    "Stáhni si soubor platy_2021_02.csv s informacemi o platech v softwarové firmě (stejný soubor, jako v předchozím úkolu).\n",
    "\n",
    "Načti si tato data do tabulky a vytvoř histogram. Nastav vhodně hranice skupin histogramu (parametr bins), aby byl graf přehledný a snadno interpretovatelný."
   ]
  },
  {
   "cell_type": "code",
   "execution_count": 66,
   "metadata": {},
   "outputs": [
    {
     "data": {
      "text/html": [
       "<div>\n",
       "<style scoped>\n",
       "    .dataframe tbody tr th:only-of-type {\n",
       "        vertical-align: middle;\n",
       "    }\n",
       "\n",
       "    .dataframe tbody tr th {\n",
       "        vertical-align: top;\n",
       "    }\n",
       "\n",
       "    .dataframe thead th {\n",
       "        text-align: right;\n",
       "    }\n",
       "</style>\n",
       "<table border=\"1\" class=\"dataframe\">\n",
       "  <thead>\n",
       "    <tr style=\"text-align: right;\">\n",
       "      <th></th>\n",
       "      <th>plat</th>\n",
       "    </tr>\n",
       "    <tr>\n",
       "      <th>cislo_zamestnance</th>\n",
       "      <th></th>\n",
       "    </tr>\n",
       "  </thead>\n",
       "  <tbody>\n",
       "    <tr>\n",
       "      <th>3</th>\n",
       "      <td>54900.0</td>\n",
       "    </tr>\n",
       "    <tr>\n",
       "      <th>6</th>\n",
       "      <td>54800.0</td>\n",
       "    </tr>\n",
       "    <tr>\n",
       "      <th>7</th>\n",
       "      <td>36400.0</td>\n",
       "    </tr>\n",
       "    <tr>\n",
       "      <th>8</th>\n",
       "      <td>47900.0</td>\n",
       "    </tr>\n",
       "    <tr>\n",
       "      <th>16</th>\n",
       "      <td>34200.0</td>\n",
       "    </tr>\n",
       "  </tbody>\n",
       "</table>\n",
       "</div>"
      ],
      "text/plain": [
       "                      plat\n",
       "cislo_zamestnance         \n",
       "3                  54900.0\n",
       "6                  54800.0\n",
       "7                  36400.0\n",
       "8                  47900.0\n",
       "16                 34200.0"
      ]
     },
     "execution_count": 66,
     "metadata": {},
     "output_type": "execute_result"
    }
   ],
   "source": [
    "import pandas as pd\n",
    "import matplotlib.pyplot as plt\n",
    "\n",
    "platy = pandas.read_csv(\"platy_2021_02.csv\")\n",
    "platy = platy.set_index(\"cislo_zamestnance\")\n",
    "\n",
    "platy.head()\n"
   ]
  },
  {
   "cell_type": "markdown",
   "metadata": {},
   "source": [
    "Zjištění platového rozmezí"
   ]
  },
  {
   "cell_type": "code",
   "execution_count": 67,
   "metadata": {},
   "outputs": [
    {
     "name": "stdout",
     "output_type": "stream",
     "text": [
      "Empty DataFrame\n",
      "Columns: []\n",
      "Index: [31400.0, 31600.0, 32600.0, 32800.0, 33500.0, 34200.0, 34400.0, 35400.0, 36400.0, 36800.0, 36900.0, 37100.0, 38100.0, 38400.0, 38600.0, 39000.0, 39300.0, 40700.0, 41100.0, 44200.0, 45100.0, 46500.0, 47900.0, 48100.0, 48900.0, 49300.0, 49900.0, 50200.0, 52000.0, 52600.0, 53000.0, 54200.0, 54800.0, 54900.0, 55400.0, 57700.0, 58400.0, 59600.0]\n"
     ]
    }
   ],
   "source": [
    "rozmezi = platy.groupby(\"plat\").min()\n",
    "print(rozmezi)\n",
    "\n",
    "#31400.0 a 59600.0\n"
   ]
  },
  {
   "cell_type": "code",
   "execution_count": 68,
   "metadata": {},
   "outputs": [
    {
     "data": {
      "text/plain": [
       "Text(0.5, 1.0, 'Platy zaměstnanců\\n\\n')"
      ]
     },
     "execution_count": 68,
     "metadata": {},
     "output_type": "execute_result"
    },
    {
     "data": {
      "image/png": "[encoded data removed]",
      "text/plain": [
       "<Figure size 640x480 with 1 Axes>"
      ]
     },
     "metadata": {},
     "output_type": "display_data"
    }
   ],
   "source": [
    "\n",
    "\n",
    "platy.hist(\n",
    "            bins = 10,\n",
    "            range = (31400.0,59600.0),\n",
    "            rwidth = 0.9,\n",
    "            facecolor = \"#2ebfce\"\n",
    "            ) \n",
    "\n",
    "plt.title(\"Platy zaměstnanců\\n\\n\",\n",
    "          fontweight =\"bold\", color=\"#066973\")\n",
    "\n",
    "\n",
    "\n"
   ]
  },
  {
   "cell_type": "markdown",
   "metadata": {},
   "source": [
    "BONUS:\n",
    "\n",
    "Vrať se k práci se souborem temperature.csv, který obsahuje informace o průměrné teplotě v různých městech v listopadu 2017.\n",
    "\n",
    "Vytvoř tabulku, která bude obsahovat údaje o teplotě za města Helsinki, Miami Beach a Tokyo.\n",
    "Vytvoř krabicový graf a porovnej rozsah teplot v těchto městech.snihdf.plot(kind='box', whis=[0, 100])"
   ]
  },
  {
   "cell_type": "code",
   "execution_count": 87,
   "metadata": {},
   "outputs": [
    {
     "data": {
      "text/html": [
       "<div>\n",
       "<style scoped>\n",
       "    .dataframe tbody tr th:only-of-type {\n",
       "        vertical-align: middle;\n",
       "    }\n",
       "\n",
       "    .dataframe tbody tr th {\n",
       "        vertical-align: top;\n",
       "    }\n",
       "\n",
       "    .dataframe thead th {\n",
       "        text-align: right;\n",
       "    }\n",
       "</style>\n",
       "<table border=\"1\" class=\"dataframe\">\n",
       "  <thead>\n",
       "    <tr style=\"text-align: right;\">\n",
       "      <th></th>\n",
       "      <th>Region</th>\n",
       "      <th>Country</th>\n",
       "      <th>City</th>\n",
       "      <th>Day</th>\n",
       "      <th>AvgTemperature</th>\n",
       "    </tr>\n",
       "  </thead>\n",
       "  <tbody>\n",
       "    <tr>\n",
       "      <th>1140</th>\n",
       "      <td>Asia</td>\n",
       "      <td>Japan</td>\n",
       "      <td>Tokyo</td>\n",
       "      <td>1</td>\n",
       "      <td>59.1</td>\n",
       "    </tr>\n",
       "    <tr>\n",
       "      <th>1141</th>\n",
       "      <td>Asia</td>\n",
       "      <td>Japan</td>\n",
       "      <td>Tokyo</td>\n",
       "      <td>2</td>\n",
       "      <td>62.3</td>\n",
       "    </tr>\n",
       "    <tr>\n",
       "      <th>1142</th>\n",
       "      <td>Asia</td>\n",
       "      <td>Japan</td>\n",
       "      <td>Tokyo</td>\n",
       "      <td>3</td>\n",
       "      <td>64.1</td>\n",
       "    </tr>\n",
       "    <tr>\n",
       "      <th>1143</th>\n",
       "      <td>Asia</td>\n",
       "      <td>Japan</td>\n",
       "      <td>Tokyo</td>\n",
       "      <td>4</td>\n",
       "      <td>59.6</td>\n",
       "    </tr>\n",
       "    <tr>\n",
       "      <th>1144</th>\n",
       "      <td>Asia</td>\n",
       "      <td>Japan</td>\n",
       "      <td>Tokyo</td>\n",
       "      <td>5</td>\n",
       "      <td>57.0</td>\n",
       "    </tr>\n",
       "    <tr>\n",
       "      <th>...</th>\n",
       "      <td>...</td>\n",
       "      <td>...</td>\n",
       "      <td>...</td>\n",
       "      <td>...</td>\n",
       "      <td>...</td>\n",
       "    </tr>\n",
       "    <tr>\n",
       "      <th>5015</th>\n",
       "      <td>North America</td>\n",
       "      <td>US</td>\n",
       "      <td>Miami Beach</td>\n",
       "      <td>6</td>\n",
       "      <td>78.6</td>\n",
       "    </tr>\n",
       "    <tr>\n",
       "      <th>5016</th>\n",
       "      <td>North America</td>\n",
       "      <td>US</td>\n",
       "      <td>Miami Beach</td>\n",
       "      <td>7</td>\n",
       "      <td>78.8</td>\n",
       "    </tr>\n",
       "    <tr>\n",
       "      <th>5017</th>\n",
       "      <td>North America</td>\n",
       "      <td>US</td>\n",
       "      <td>Miami Beach</td>\n",
       "      <td>8</td>\n",
       "      <td>79.0</td>\n",
       "    </tr>\n",
       "    <tr>\n",
       "      <th>5018</th>\n",
       "      <td>North America</td>\n",
       "      <td>US</td>\n",
       "      <td>Miami Beach</td>\n",
       "      <td>9</td>\n",
       "      <td>80.0</td>\n",
       "    </tr>\n",
       "    <tr>\n",
       "      <th>5019</th>\n",
       "      <td>North America</td>\n",
       "      <td>US</td>\n",
       "      <td>Miami Beach</td>\n",
       "      <td>10</td>\n",
       "      <td>80.2</td>\n",
       "    </tr>\n",
       "  </tbody>\n",
       "</table>\n",
       "<p>70 rows × 5 columns</p>\n",
       "</div>"
      ],
      "text/plain": [
       "             Region Country         City  Day  AvgTemperature\n",
       "1140           Asia   Japan        Tokyo    1            59.1\n",
       "1141           Asia   Japan        Tokyo    2            62.3\n",
       "1142           Asia   Japan        Tokyo    3            64.1\n",
       "1143           Asia   Japan        Tokyo    4            59.6\n",
       "1144           Asia   Japan        Tokyo    5            57.0\n",
       "...             ...     ...          ...  ...             ...\n",
       "5015  North America      US  Miami Beach    6            78.6\n",
       "5016  North America      US  Miami Beach    7            78.8\n",
       "5017  North America      US  Miami Beach    8            79.0\n",
       "5018  North America      US  Miami Beach    9            80.0\n",
       "5019  North America      US  Miami Beach   10            80.2\n",
       "\n",
       "[70 rows x 5 columns]"
      ]
     },
     "execution_count": 87,
     "metadata": {},
     "output_type": "execute_result"
    }
   ],
   "source": [
    "seznam = pd.read_csv(\"temperature.csv\", sep=\",\")\n",
    "\n",
    "selected_cities = [\"Helsinki\", \"Miami Beach\", \"Tokyo\"]\n",
    "\n",
    "filtered_df = seznam[seznam['City'].isin(selected_cities)]\n",
    "filtered_df.head(-20)\n"
   ]
  },
  {
   "cell_type": "code",
   "execution_count": 92,
   "metadata": {},
   "outputs": [
    {
     "data": {
      "text/plain": [
       "Text(0.5, 1.0, 'Porovnání rozsahu teplot v městech')"
      ]
     },
     "execution_count": 92,
     "metadata": {},
     "output_type": "execute_result"
    },
    {
     "data": {
      "image/png": "[encoded data removed]",
      "text/plain": [
       "<Figure size 1000x600 with 1 Axes>"
      ]
     },
     "metadata": {},
     "output_type": "display_data"
    }
   ],
   "source": [
    "plt.figure(figsize=(10, 6))\n",
    "plt.boxplot([filtered_df[filtered_df[\"City\"] == city][\"AvgTemperature\"] for city in selected_cities],\n",
    "            labels=selected_cities)\n",
    "\n",
    "plt.title(\"Porovnání rozsahu teplot v městech\", fontweight=\"bold\", color=\"#066973\")\n"
   ]
  }
 ],
 "metadata": {
  "kernelspec": {
   "display_name": "Python 3",
   "language": "python",
   "name": "python3"
  },
  "language_info": {
   "codemirror_mode": {
    "name": "ipython",
    "version": 3
   },
   "file_extension": ".py",
   "mimetype": "text/x-python",
   "name": "python",
   "nbconvert_exporter": "python",
   "pygments_lexer": "ipython3",
   "version": "3.9.6"
  }
 },
 "nbformat": 4,
 "nbformat_minor": 2
}
